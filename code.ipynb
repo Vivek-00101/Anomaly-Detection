{
 "cells": [
  {
   "cell_type": "code",
   "execution_count": 2,
   "id": "18a7abb6",
   "metadata": {},
   "outputs": [],
   "source": [
    "import numpy as np\n",
    " \n",
    "import tensorflow as tf\n",
    "import os\n",
    "import cv2\n",
    "import random\n",
    " \n",
    "from tensorflow.keras.layers import *\n",
    "from tensorflow.keras.models import Sequential\n",
    "from tensorflow.keras.utils import to_categorical\n",
    "from tensorflow.keras.callbacks import EarlyStopping\n",
    "from tensorflow.keras.utils import plot_model\n",
    "import matplotlib.pyplot as plt\n",
    "from tqdm import tqdm"
   ]
  },
  {
   "cell_type": "code",
   "execution_count": 3,
   "id": "1a1f6874",
   "metadata": {},
   "outputs": [],
   "source": [
    "seed_constant = 15\n",
    "np.random.seed(seed_constant)\n",
    "random.seed(seed_constant)\n",
    "tf.random.set_seed(seed_constant)\n"
   ]
  },
  {
   "cell_type": "code",
   "execution_count": 4,
   "id": "4a1616d2",
   "metadata": {},
   "outputs": [],
   "source": [
    "image_height, image_width = 64, 64\n",
    "max_images_per_class = 8000\n",
    " \n",
    "desktop_path = os.path.join(os.path.expanduser('~'), 'Desktop')\n",
    "dataset_directory = os.path.join(desktop_path, 'Anomaly', 'Anomaly-Videos-Part-1')\n",
    "\n",
    "classes_list = [\"Abuse\",\"Arrest\",\"Arson\",\"Assault\"]\n",
    "\n",
    " \n",
    "model_output_size = len(classes_list)\n"
   ]
  },
  {
   "cell_type": "code",
   "execution_count": 5,
   "id": "f7275d8c",
   "metadata": {},
   "outputs": [
    {
     "data": {
      "text/plain": [
       "4"
      ]
     },
     "execution_count": 5,
     "metadata": {},
     "output_type": "execute_result"
    }
   ],
   "source": [
    "model_output_size"
   ]
  },
  {
   "cell_type": "code",
   "execution_count": 6,
   "id": "fc6c5f51",
   "metadata": {},
   "outputs": [],
   "source": [
    "def frames_extraction(video_path):\n",
    "    # Empty List declared to store video frames\n",
    "    frames_list = []\n",
    "     \n",
    "    # Reading the Video File Using the VideoCapture\n",
    "    video_reader = cv2.VideoCapture(video_path)\n",
    " \n",
    "    # Iterating through Video Frames\n",
    "    while True:\n",
    " \n",
    "        # Reading a frame from the video file \n",
    "        success, frame = video_reader.read() \n",
    " \n",
    "        # If Video frame was not successfully read then break the loop\n",
    "        if not success:\n",
    "            break\n",
    " \n",
    "        # Resize the Frame to fixed Dimensions\n",
    "        resized_frame = cv2.resize(frame, (image_height, image_width))\n",
    "        # print(video_path)\n",
    "         \n",
    "        # Normalize the resized frame by dividing it with 255 so that each pixel value then lies between 0 and 1\n",
    "        normalized_frame = resized_frame / 255\n",
    "         \n",
    "        # Appending the normalized frame into the frames list\n",
    "        frames_list.append(normalized_frame)\n",
    "     \n",
    "    # Closing the VideoCapture object and releasing all resources. \n",
    "    video_reader.release()\n",
    " \n",
    "    # returning the frames list \n",
    "    return frames_list\n"
   ]
  },
  {
   "cell_type": "code",
   "execution_count": 7,
   "id": "24ad06f4",
   "metadata": {},
   "outputs": [
    {
     "name": "stdout",
     "output_type": "stream",
     "text": [
      "Requirement already satisfied: moviepy in /Users/vivek/anaconda3/lib/python3.11/site-packages (1.0.3)\n",
      "Requirement already satisfied: decorator<5.0,>=4.0.2 in /Users/vivek/anaconda3/lib/python3.11/site-packages (from moviepy) (4.4.2)\n",
      "Requirement already satisfied: tqdm<5.0,>=4.11.2 in /Users/vivek/anaconda3/lib/python3.11/site-packages (from moviepy) (4.65.0)\n",
      "Requirement already satisfied: requests<3.0,>=2.8.1 in /Users/vivek/anaconda3/lib/python3.11/site-packages (from moviepy) (2.27.1)\n",
      "Requirement already satisfied: proglog<=1.0.0 in /Users/vivek/anaconda3/lib/python3.11/site-packages (from moviepy) (0.1.10)\n",
      "Requirement already satisfied: numpy>=1.17.3 in /Users/vivek/anaconda3/lib/python3.11/site-packages (from moviepy) (1.24.3)\n",
      "Requirement already satisfied: imageio<3.0,>=2.5 in /Users/vivek/anaconda3/lib/python3.11/site-packages (from moviepy) (2.31.4)\n",
      "Requirement already satisfied: imageio-ffmpeg>=0.2.0 in /Users/vivek/anaconda3/lib/python3.11/site-packages (from moviepy) (0.4.9)\n",
      "Requirement already satisfied: pillow>=8.3.2 in /Users/vivek/anaconda3/lib/python3.11/site-packages (from imageio<3.0,>=2.5->moviepy) (10.0.1)\n",
      "Requirement already satisfied: setuptools in /Users/vivek/anaconda3/lib/python3.11/site-packages (from imageio-ffmpeg>=0.2.0->moviepy) (68.0.0)\n",
      "Requirement already satisfied: urllib3<1.27,>=1.21.1 in /Users/vivek/anaconda3/lib/python3.11/site-packages (from requests<3.0,>=2.8.1->moviepy) (1.26.8)\n",
      "Requirement already satisfied: certifi>=2017.4.17 in /Users/vivek/anaconda3/lib/python3.11/site-packages (from requests<3.0,>=2.8.1->moviepy) (2021.10.8)\n",
      "Requirement already satisfied: charset-normalizer~=2.0.0 in /Users/vivek/anaconda3/lib/python3.11/site-packages (from requests<3.0,>=2.8.1->moviepy) (2.0.11)\n",
      "Requirement already satisfied: idna<4,>=2.5 in /Users/vivek/anaconda3/lib/python3.11/site-packages (from requests<3.0,>=2.8.1->moviepy) (3.3)\n"
     ]
    }
   ],
   "source": [
    "!pip install moviepy\n"
   ]
  },
  {
   "cell_type": "code",
   "execution_count": 8,
   "id": "80cbc36e",
   "metadata": {},
   "outputs": [],
   "source": [
    "#import moviepy.editor as mp"
   ]
  },
  {
   "cell_type": "code",
   "execution_count": 9,
   "id": "0c8b9440",
   "metadata": {},
   "outputs": [],
   "source": [
    "def create_dataset():\n",
    " \n",
    "    # Declaring Empty Lists to store the features and labels values.\n",
    "    temp_features = [] \n",
    "    features = []\n",
    "    \n",
    "    labels = []\n",
    "    dataset_directory = \"/Users/vivek/desktop/Anomaly/Anomaly-Videos-Part-1\"\n",
    "     \n",
    "    # Iterating through all the classes mentioned in the classes list\n",
    "    for class_index, class_name in enumerate(classes_list):\n",
    "        print(f'Extracting Data of Class: {class_name}')\n",
    "         \n",
    "        # Getting the list of video files present in the specific class name directory\n",
    "        files_list = os.listdir(os.path.join(dataset_directory, class_name))\n",
    " \n",
    "        # Iterating through all the files present in the files list\n",
    "        for file_name in files_list:\n",
    " \n",
    "            # Construct the complete video path\n",
    "            video_file_path = os.path.join(dataset_directory, class_name, file_name)\n",
    "            \n",
    " \n",
    "            # Calling the frame_extraction method for every video file path\n",
    "#             resize(video_file_path)\n",
    "            frames = frames_extraction(video_file_path)\n",
    "            print(video_file_path)\n",
    " \n",
    "            # Appending the frames to a temporary list.\n",
    "            temp_features.extend(frames)\n",
    "         \n",
    "        # Adding randomly selected frames to the features list\n",
    "        features.extend(random.sample(temp_features, max_images_per_class))\n",
    " \n",
    "        # Adding Fixed number of labels to the labels list\n",
    "        labels.extend([class_index] * max_images_per_class)\n",
    "         \n",
    "        # Emptying the temp_features list so it can be reused to store all frames of the next class.\n",
    "        temp_features.clear()\n",
    " \n",
    "    # Converting the features and labels lists to numpy arrays\n",
    "    # features = np.asarray(features)\n",
    "    # labels = np.array(labels)  \n",
    "    # a = np.asarray(features)\n",
    "    np.save(\"features.npy\",features)\n",
    "    # b = np.asarray(labels)\n",
    "    np.save(\"labels.npy\",labels)\n",
    " \n",
    "    # return features, labels\n"
   ]
  },
  {
   "cell_type": "code",
   "execution_count": 10,
   "id": "120cb513",
   "metadata": {},
   "outputs": [
    {
     "name": "stdout",
     "output_type": "stream",
     "text": [
      "Extracting Data of Class: Abuse\n",
      "/Users/vivek/desktop/Anomaly/Anomaly-Videos-Part-1/Abuse/Abuse027_x264.mp4\n",
      "/Users/vivek/desktop/Anomaly/Anomaly-Videos-Part-1/Abuse/Abuse026_x264.mp4\n",
      "/Users/vivek/desktop/Anomaly/Anomaly-Videos-Part-1/Abuse/Abuse050_x264.mp4\n",
      "/Users/vivek/desktop/Anomaly/Anomaly-Videos-Part-1/Abuse/Abuse019_x264.mp4\n",
      "/Users/vivek/desktop/Anomaly/Anomaly-Videos-Part-1/Abuse/Abuse018_x264.mp4\n",
      "/Users/vivek/desktop/Anomaly/Anomaly-Videos-Part-1/Abuse/Abuse013_x264.mp4\n",
      "/Users/vivek/desktop/Anomaly/Anomaly-Videos-Part-1/Abuse/Abuse012_x264.mp4\n",
      "/Users/vivek/desktop/Anomaly/Anomaly-Videos-Part-1/Abuse/Abuse030_x264.mp4\n",
      "/Users/vivek/desktop/Anomaly/Anomaly-Videos-Part-1/Abuse/Abuse031_x264.mp4\n",
      "/Users/vivek/desktop/Anomaly/Anomaly-Videos-Part-1/Abuse/Abuse047_x264.mp4\n",
      "/Users/vivek/desktop/Anomaly/Anomaly-Videos-Part-1/Abuse/Abuse046_x264.mp4\n",
      "/Users/vivek/desktop/Anomaly/Anomaly-Videos-Part-1/Abuse/Abuse004_x264.mp4\n",
      "/Users/vivek/desktop/Anomaly/Anomaly-Videos-Part-1/Abuse/Abuse005_x264.mp4\n",
      "/Users/vivek/desktop/Anomaly/Anomaly-Videos-Part-1/Abuse/Abuse037_x264.mp4\n",
      "/Users/vivek/desktop/Anomaly/Anomaly-Videos-Part-1/Abuse/Abuse036_x264.mp4\n",
      "/Users/vivek/desktop/Anomaly/Anomaly-Videos-Part-1/Abuse/Abuse009_x264.mp4\n",
      "/Users/vivek/desktop/Anomaly/Anomaly-Videos-Part-1/Abuse/Abuse008_x264.mp4\n",
      "/Users/vivek/desktop/Anomaly/Anomaly-Videos-Part-1/Abuse/Abuse040_x264.mp4\n",
      "/Users/vivek/desktop/Anomaly/Anomaly-Videos-Part-1/Abuse/Abuse041_x264.mp4\n",
      "/Users/vivek/desktop/Anomaly/Anomaly-Videos-Part-1/Abuse/Abuse003_x264.mp4\n",
      "/Users/vivek/desktop/Anomaly/Anomaly-Videos-Part-1/Abuse/Abuse002_x264.mp4\n",
      "/Users/vivek/desktop/Anomaly/Anomaly-Videos-Part-1/Abuse/Abuse020_x264.mp4\n",
      "/Users/vivek/desktop/Anomaly/Anomaly-Videos-Part-1/Abuse/Abuse021_x264.mp4\n",
      "/Users/vivek/desktop/Anomaly/Anomaly-Videos-Part-1/Abuse/Abuse014_x264.mp4\n",
      "/Users/vivek/desktop/Anomaly/Anomaly-Videos-Part-1/Abuse/Abuse015_x264.mp4\n",
      "/Users/vivek/desktop/Anomaly/Anomaly-Videos-Part-1/Abuse/Abuse039_x264.mp4\n",
      "/Users/vivek/desktop/Anomaly/Anomaly-Videos-Part-1/Abuse/Abuse038_x264.mp4\n",
      "/Users/vivek/desktop/Anomaly/Anomaly-Videos-Part-1/Abuse/Abuse007_x264.mp4\n",
      "/Users/vivek/desktop/Anomaly/Anomaly-Videos-Part-1/Abuse/Abuse006_x264.mp4\n",
      "/Users/vivek/desktop/Anomaly/Anomaly-Videos-Part-1/Abuse/Abuse033_x264.mp4\n",
      "/Users/vivek/desktop/Anomaly/Anomaly-Videos-Part-1/Abuse/Abuse032_x264.mp4\n",
      "/Users/vivek/desktop/Anomaly/Anomaly-Videos-Part-1/Abuse/Abuse044_x264.mp4\n",
      "/Users/vivek/desktop/Anomaly/Anomaly-Videos-Part-1/Abuse/Abuse045_x264.mp4\n",
      "/Users/vivek/desktop/Anomaly/Anomaly-Videos-Part-1/Abuse/Abuse010_x264.mp4\n",
      "/Users/vivek/desktop/Anomaly/Anomaly-Videos-Part-1/Abuse/Abuse011_x264.mp4\n",
      "/Users/vivek/desktop/Anomaly/Anomaly-Videos-Part-1/Abuse/Abuse024_x264.mp4\n",
      "/Users/vivek/desktop/Anomaly/Anomaly-Videos-Part-1/Abuse/Abuse025_x264.mp4\n",
      "/Users/vivek/desktop/Anomaly/Anomaly-Videos-Part-1/Abuse/Abuse029_x264.mp4\n",
      "/Users/vivek/desktop/Anomaly/Anomaly-Videos-Part-1/Abuse/Abuse028_x264.mp4\n",
      "/Users/vivek/desktop/Anomaly/Anomaly-Videos-Part-1/Abuse/Abuse017_x264.mp4\n",
      "/Users/vivek/desktop/Anomaly/Anomaly-Videos-Part-1/Abuse/Abuse016_x264.mp4\n",
      "/Users/vivek/desktop/Anomaly/Anomaly-Videos-Part-1/Abuse/Abuse023_x264.mp4\n",
      "/Users/vivek/desktop/Anomaly/Anomaly-Videos-Part-1/Abuse/Abuse022_x264.mp4\n",
      "/Users/vivek/desktop/Anomaly/Anomaly-Videos-Part-1/Abuse/Abuse049_x264.mp4\n",
      "/Users/vivek/desktop/Anomaly/Anomaly-Videos-Part-1/Abuse/Abuse048_x264.mp4\n",
      "/Users/vivek/desktop/Anomaly/Anomaly-Videos-Part-1/Abuse/Abuse001_x264.mp4\n",
      "/Users/vivek/desktop/Anomaly/Anomaly-Videos-Part-1/Abuse/Abuse034_x264.mp4\n",
      "/Users/vivek/desktop/Anomaly/Anomaly-Videos-Part-1/Abuse/Abuse035_x264.mp4\n",
      "/Users/vivek/desktop/Anomaly/Anomaly-Videos-Part-1/Abuse/Abuse043_x264.mp4\n",
      "/Users/vivek/desktop/Anomaly/Anomaly-Videos-Part-1/Abuse/Abuse042_x264.mp4\n",
      "Extracting Data of Class: Arrest\n",
      "/Users/vivek/desktop/Anomaly/Anomaly-Videos-Part-1/Arrest/Arrest008_x264.mp4\n",
      "/Users/vivek/desktop/Anomaly/Anomaly-Videos-Part-1/Arrest/Arrest009_x264.mp4\n",
      "/Users/vivek/desktop/Anomaly/Anomaly-Videos-Part-1/Arrest/Arrest041_x264.mp4\n",
      "/Users/vivek/desktop/Anomaly/Anomaly-Videos-Part-1/Arrest/Arrest040_x264.mp4\n",
      "/Users/vivek/desktop/Anomaly/Anomaly-Videos-Part-1/Arrest/Arrest036_x264.mp4\n",
      "/Users/vivek/desktop/Anomaly/Anomaly-Videos-Part-1/Arrest/Arrest037_x264.mp4\n"
     ]
    },
    {
     "ename": "KeyboardInterrupt",
     "evalue": "",
     "output_type": "error",
     "traceback": [
      "\u001b[0;31m---------------------------------------------------------------------------\u001b[0m",
      "\u001b[0;31mKeyboardInterrupt\u001b[0m                         Traceback (most recent call last)",
      "Cell \u001b[0;32mIn[10], line 2\u001b[0m\n\u001b[1;32m      1\u001b[0m \u001b[38;5;66;03m# features, labels = create_dataset()\u001b[39;00m\n\u001b[0;32m----> 2\u001b[0m create_dataset()\n",
      "Cell \u001b[0;32mIn[9], line 26\u001b[0m, in \u001b[0;36mcreate_dataset\u001b[0;34m()\u001b[0m\n\u001b[1;32m     21\u001b[0m             video_file_path \u001b[38;5;241m=\u001b[39m os\u001b[38;5;241m.\u001b[39mpath\u001b[38;5;241m.\u001b[39mjoin(dataset_directory, class_name, file_name)\n\u001b[1;32m     24\u001b[0m             \u001b[38;5;66;03m# Calling the frame_extraction method for every video file path\u001b[39;00m\n\u001b[1;32m     25\u001b[0m \u001b[38;5;66;03m#             resize(video_file_path)\u001b[39;00m\n\u001b[0;32m---> 26\u001b[0m             frames \u001b[38;5;241m=\u001b[39m frames_extraction(video_file_path)\n\u001b[1;32m     27\u001b[0m             \u001b[38;5;28mprint\u001b[39m(video_file_path)\n\u001b[1;32m     29\u001b[0m             \u001b[38;5;66;03m# Appending the frames to a temporary list.\u001b[39;00m\n",
      "Cell \u001b[0;32mIn[6], line 12\u001b[0m, in \u001b[0;36mframes_extraction\u001b[0;34m(video_path)\u001b[0m\n\u001b[1;32m      8\u001b[0m \u001b[38;5;66;03m# Iterating through Video Frames\u001b[39;00m\n\u001b[1;32m      9\u001b[0m \u001b[38;5;28;01mwhile\u001b[39;00m \u001b[38;5;28;01mTrue\u001b[39;00m:\n\u001b[1;32m     10\u001b[0m \n\u001b[1;32m     11\u001b[0m     \u001b[38;5;66;03m# Reading a frame from the video file \u001b[39;00m\n\u001b[0;32m---> 12\u001b[0m     success, frame \u001b[38;5;241m=\u001b[39m video_reader\u001b[38;5;241m.\u001b[39mread() \n\u001b[1;32m     14\u001b[0m     \u001b[38;5;66;03m# If Video frame was not successfully read then break the loop\u001b[39;00m\n\u001b[1;32m     15\u001b[0m     \u001b[38;5;28;01mif\u001b[39;00m \u001b[38;5;129;01mnot\u001b[39;00m success:\n",
      "\u001b[0;31mKeyboardInterrupt\u001b[0m: "
     ]
    }
   ],
   "source": [
    "# features, labels = create_dataset()\n",
    "create_dataset()\n"
   ]
  },
  {
   "cell_type": "code",
   "execution_count": 13,
   "id": "0b96829a",
   "metadata": {},
   "outputs": [],
   "source": [
    "features = np.load(\"features.npy\")\n",
    "labels = np.load(\"labels.npy\")\n"
   ]
  },
  {
   "cell_type": "code",
   "execution_count": 14,
   "id": "0f6d3f25",
   "metadata": {},
   "outputs": [],
   "source": [
    "import pandas as pd\n",
    "\n",
    "from tensorflow.keras.utils import to_categorical\n",
    "one_hot_encoded_labels = to_categorical(labels)\n"
   ]
  },
  {
   "cell_type": "code",
   "execution_count": 15,
   "id": "5442a250",
   "metadata": {},
   "outputs": [
    {
     "name": "stdout",
     "output_type": "stream",
     "text": [
      "[0 0 0 ... 3 3 3]\n"
     ]
    }
   ],
   "source": [
    "print(labels)\n"
   ]
  },
  {
   "cell_type": "code",
   "execution_count": 16,
   "id": "f29c7d4c",
   "metadata": {},
   "outputs": [],
   "source": [
    "from sklearn.model_selection import train_test_split"
   ]
  },
  {
   "cell_type": "code",
   "execution_count": 17,
   "id": "d9328271",
   "metadata": {},
   "outputs": [],
   "source": [
    "features_train, features_test, labels_train, labels_test = train_test_split(features, one_hot_encoded_labels, test_size = 0.2, shuffle = True, random_state = seed_constant)"
   ]
  },
  {
   "cell_type": "code",
   "execution_count": 18,
   "id": "e10df242",
   "metadata": {},
   "outputs": [
    {
     "data": {
      "text/plain": [
       "(6400, 64, 64, 3)"
      ]
     },
     "execution_count": 18,
     "metadata": {},
     "output_type": "execute_result"
    }
   ],
   "source": [
    "features_test.shape"
   ]
  },
  {
   "cell_type": "code",
   "execution_count": 19,
   "id": "4abe20c2",
   "metadata": {},
   "outputs": [
    {
     "name": "stdout",
     "output_type": "stream",
     "text": [
      "Model: \"sequential\"\n",
      "_________________________________________________________________\n",
      " Layer (type)                Output Shape              Param #   \n",
      "=================================================================\n",
      " conv2d (Conv2D)             (None, 62, 62, 64)        1792      \n",
      "                                                                 \n",
      " conv2d_1 (Conv2D)           (None, 60, 60, 64)        36928     \n",
      "                                                                 \n",
      " batch_normalization (Batch  (None, 60, 60, 64)        256       \n",
      " Normalization)                                                  \n",
      "                                                                 \n",
      " max_pooling2d (MaxPooling2  (None, 30, 30, 64)        0         \n",
      " D)                                                              \n",
      "                                                                 \n",
      " global_average_pooling2d (  (None, 64)                0         \n",
      " GlobalAveragePooling2D)                                         \n",
      "                                                                 \n",
      " dense (Dense)               (None, 256)               16640     \n",
      "                                                                 \n",
      " batch_normalization_1 (Bat  (None, 256)               1024      \n",
      " chNormalization)                                                \n",
      "                                                                 \n",
      " dense_1 (Dense)             (None, 4)                 1028      \n",
      "                                                                 \n",
      "=================================================================\n",
      "Total params: 57668 (225.27 KB)\n",
      "Trainable params: 57028 (222.77 KB)\n",
      "Non-trainable params: 640 (2.50 KB)\n",
      "_________________________________________________________________\n"
     ]
    }
   ],
   "source": [
    "def create_model():\n",
    " \n",
    "    # We will use a Sequential model for model construction\n",
    "    model = Sequential()\n",
    " \n",
    "    # Defining The Model Architecture\n",
    "    model.add(Conv2D(filters = 64, kernel_size = (3, 3), activation = 'relu', input_shape = (image_height, image_width, 3)))\n",
    "    model.add(Conv2D(filters = 64, kernel_size = (3, 3), activation = 'relu'))\n",
    "    model.add(BatchNormalization())\n",
    "    model.add(MaxPooling2D(pool_size = (2, 2)))\n",
    "    model.add(GlobalAveragePooling2D())\n",
    "    model.add(Dense(256, activation = 'relu'))\n",
    "    model.add(BatchNormalization())\n",
    "    model.add(Dense(model_output_size, activation = 'softmax'))\n",
    " \n",
    "    # Printing the models summary\n",
    "    model.summary()\n",
    " \n",
    "    return model\n",
    " \n",
    " \n",
    "# Calling the create_model method\n",
    "model = create_model()\n"
   ]
  },
  {
   "cell_type": "code",
   "execution_count": 24,
   "id": "94617f68",
   "metadata": {},
   "outputs": [
    {
     "name": "stdout",
     "output_type": "stream",
     "text": [
      "Epoch 1/20\n",
      "5120/5120 [==============================] - 115s 22ms/step - loss: 0.1904 - accuracy: 0.9404 - val_loss: 0.1336 - val_accuracy: 0.9803\n",
      "Epoch 2/20\n",
      "5120/5120 [==============================] - 125s 24ms/step - loss: 0.1921 - accuracy: 0.9364 - val_loss: 0.1587 - val_accuracy: 0.9783\n",
      "Epoch 3/20\n",
      "5120/5120 [==============================] - 118s 23ms/step - loss: 0.1933 - accuracy: 0.9389 - val_loss: 0.1527 - val_accuracy: 0.9746\n",
      "Epoch 4/20\n",
      "5120/5120 [==============================] - 119s 23ms/step - loss: 0.1883 - accuracy: 0.9423 - val_loss: 0.3082 - val_accuracy: 0.9816\n",
      "Epoch 5/20\n",
      "5120/5120 [==============================] - 121s 24ms/step - loss: 0.1767 - accuracy: 0.9458 - val_loss: 0.1207 - val_accuracy: 0.9850\n",
      "Epoch 6/20\n",
      "5120/5120 [==============================] - 121s 24ms/step - loss: 0.1744 - accuracy: 0.9466 - val_loss: 0.2135 - val_accuracy: 0.9627\n",
      "Epoch 7/20\n",
      "5120/5120 [==============================] - 123s 24ms/step - loss: 0.1701 - accuracy: 0.9467 - val_loss: 0.3309 - val_accuracy: 0.9803\n",
      "Epoch 8/20\n",
      "5120/5120 [==============================] - 125s 24ms/step - loss: 0.1726 - accuracy: 0.9457 - val_loss: 0.1950 - val_accuracy: 0.9693\n",
      "Epoch 9/20\n",
      "5120/5120 [==============================] - 124s 24ms/step - loss: 0.1651 - accuracy: 0.9489 - val_loss: 0.1086 - val_accuracy: 0.9830\n",
      "Epoch 10/20\n",
      "5120/5120 [==============================] - 125s 24ms/step - loss: 0.1671 - accuracy: 0.9482 - val_loss: 0.1309 - val_accuracy: 0.9809\n",
      "Epoch 11/20\n",
      "5120/5120 [==============================] - 126s 25ms/step - loss: 0.1517 - accuracy: 0.9533 - val_loss: 0.1326 - val_accuracy: 0.9727\n",
      "Epoch 12/20\n",
      "5120/5120 [==============================] - 127s 25ms/step - loss: 0.1456 - accuracy: 0.9554 - val_loss: 0.1181 - val_accuracy: 0.9828\n",
      "Epoch 13/20\n",
      "5120/5120 [==============================] - 127s 25ms/step - loss: 0.1516 - accuracy: 0.9537 - val_loss: 0.1718 - val_accuracy: 0.9836\n",
      "Epoch 14/20\n",
      "5120/5120 [==============================] - 127s 25ms/step - loss: 0.1548 - accuracy: 0.9524 - val_loss: 0.1933 - val_accuracy: 0.9705\n",
      "Epoch 15/20\n",
      "5120/5120 [==============================] - 129s 25ms/step - loss: 0.1424 - accuracy: 0.9563 - val_loss: 0.2830 - val_accuracy: 0.9551\n",
      "Epoch 16/20\n",
      "5120/5120 [==============================] - 129s 25ms/step - loss: 0.1551 - accuracy: 0.9534 - val_loss: 0.1022 - val_accuracy: 0.9773\n",
      "Epoch 17/20\n",
      "5120/5120 [==============================] - 132s 26ms/step - loss: 0.1479 - accuracy: 0.9562 - val_loss: 0.1127 - val_accuracy: 0.9805\n",
      "Epoch 18/20\n",
      "5120/5120 [==============================] - 130s 25ms/step - loss: 0.1402 - accuracy: 0.9553 - val_loss: 0.0959 - val_accuracy: 0.9877\n",
      "Epoch 19/20\n",
      "5120/5120 [==============================] - 129s 25ms/step - loss: 0.1347 - accuracy: 0.9589 - val_loss: 0.2087 - val_accuracy: 0.9443\n",
      "Epoch 20/20\n",
      "5120/5120 [==============================] - 132s 26ms/step - loss: 0.1329 - accuracy: 0.9599 - val_loss: 0.1822 - val_accuracy: 0.9814\n",
      "<keras.src.callbacks.History object at 0x2c2847450>\n"
     ]
    }
   ],
   "source": [
    "early_stopping_callback = EarlyStopping(monitor = 'val_loss', patience = 15, mode = 'min', restore_best_weights = True)\n",
    " \n",
    "# Adding loss, optimizer and metrics values to the model.\n",
    "model.compile(loss = 'categorical_crossentropy', optimizer = 'Adam', metrics = [\"accuracy\"])\n",
    " \n",
    "# Start Training\n",
    "model_training_history = model.fit(x = features_train, y = labels_train, epochs = 20, batch_size = 4 , shuffle = True, validation_split = 0.2, callbacks = [early_stopping_callback])\n",
    "\n",
    "print(model_training_history)\n"
   ]
  },
  {
   "cell_type": "code",
   "execution_count": 23,
   "id": "5c88bb2d",
   "metadata": {},
   "outputs": [
    {
     "ename": "NameError",
     "evalue": "name 'early_stopping_callback' is not defined",
     "output_type": "error",
     "traceback": [
      "\u001b[0;31m---------------------------------------------------------------------------\u001b[0m",
      "\u001b[0;31mNameError\u001b[0m                                 Traceback (most recent call last)",
      "Cell \u001b[0;32mIn[23], line 1\u001b[0m\n\u001b[0;32m----> 1\u001b[0m model_training_history \u001b[38;5;241m=\u001b[39m model\u001b[38;5;241m.\u001b[39mfit(x \u001b[38;5;241m=\u001b[39m features_train, y \u001b[38;5;241m=\u001b[39m labels_train, epochs \u001b[38;5;241m=\u001b[39m \u001b[38;5;241m20\u001b[39m, batch_size \u001b[38;5;241m=\u001b[39m \u001b[38;5;241m4\u001b[39m , shuffle \u001b[38;5;241m=\u001b[39m \u001b[38;5;28;01mTrue\u001b[39;00m, validation_split \u001b[38;5;241m=\u001b[39m \u001b[38;5;241m0.2\u001b[39m, callbacks \u001b[38;5;241m=\u001b[39m [early_stopping_callback])\n\u001b[1;32m      3\u001b[0m \u001b[38;5;28mprint\u001b[39m(model_training_history)\n",
      "\u001b[0;31mNameError\u001b[0m: name 'early_stopping_callback' is not defined"
     ]
    }
   ],
   "source": []
  },
  {
   "cell_type": "code",
   "execution_count": 25,
   "id": "b1bceb64",
   "metadata": {},
   "outputs": [
    {
     "name": "stderr",
     "output_type": "stream",
     "text": [
      "/Users/vivek/anaconda3/lib/python3.11/site-packages/keras/src/engine/training.py:3079: UserWarning: You are saving your model as an HDF5 file via `model.save()`. This file format is considered legacy. We recommend using instead the native Keras format, e.g. `model.save('my_model.keras')`.\n",
      "  saving_api.save_model(\n"
     ]
    }
   ],
   "source": [
    "model.save('model_8000.h5')"
   ]
  },
  {
   "cell_type": "code",
   "execution_count": 26,
   "id": "77b4ea49",
   "metadata": {},
   "outputs": [],
   "source": [
    "model = tf.keras.models.load_model('model_8000.h5')"
   ]
  },
  {
   "cell_type": "code",
   "execution_count": 27,
   "id": "62fd1810",
   "metadata": {},
   "outputs": [
    {
     "name": "stdout",
     "output_type": "stream",
     "text": [
      "200/200 [==============================] - 7s 36ms/step - loss: 0.1755 - accuracy: 0.9812\n"
     ]
    }
   ],
   "source": [
    "model_evaluation_history = model.evaluate(features_test, labels_test)"
   ]
  },
  {
   "cell_type": "code",
   "execution_count": 28,
   "id": "61546109",
   "metadata": {},
   "outputs": [
    {
     "data": {
      "image/png": "[encoded data removed]",
      "text/plain": [
       "<Figure size 640x480 with 1 Axes>"
      ]
     },
     "metadata": {},
     "output_type": "display_data"
    }
   ],
   "source": [
    "def plot_metric(metric_name_1, metric_name_2, plot_name):\n",
    "  # Get Metric values using metric names as identifiers\n",
    "  metric_value_1 = model_training_history.history[metric_name_1]\n",
    "  metric_value_2 = model_training_history.history[metric_name_2]\n",
    " \n",
    "  # Constructing a range object which will be used as time \n",
    "  epochs = range(len(metric_value_1))\n",
    "   \n",
    "  # Plotting the Graph\n",
    "  plt.plot(epochs, metric_value_1, 'blue', label = metric_name_1)\n",
    "  plt.plot(epochs, metric_value_2, 'red', label = metric_name_2)\n",
    "   \n",
    "  # Adding title to the plot\n",
    "  plt.title(str(plot_name))\n",
    " \n",
    "  # Adding legend to the plot\n",
    "  plt.legend()\n",
    "plot_metric('loss', 'val_loss', 'Total Loss vs Total Validation Loss')"
   ]
  },
  {
   "cell_type": "code",
   "execution_count": 29,
   "id": "b76a6822",
   "metadata": {},
   "outputs": [],
   "source": [
    "from collections import deque"
   ]
  },
  {
   "cell_type": "code",
   "execution_count": 30,
   "id": "630aca0b",
   "metadata": {},
   "outputs": [],
   "source": [
    "def save_clip(frames):\n",
    "    height, width, _ = frames[0].shape\n",
    "    fourcc = cv2.VideoWriter_fourcc(*\"mp4v\")  \n",
    "    frame_rate=30\n",
    "    output_video = cv2.VideoWriter(\"/Users/vivek/desktop/Anomaly/Saved/output_clip.mp4\", fourcc, frame_rate, (width, height))\n",
    "\n",
    "    for frame in frames:\n",
    "        output_video.write(frame)\n",
    "    output_video.release()\n"
   ]
  },
  {
   "cell_type": "code",
   "execution_count": 48,
   "id": "dd7b8c52",
   "metadata": {},
   "outputs": [],
   "source": [
    "def predict_on_live_video(video_file_path, output_file_path, window_size):\n",
    "    frame_count=0\n",
    "    frames=[]\n",
    "    predicted_label=4\n",
    "    # Initialize a Deque Object with a fixed size which will be used to implement moving/rolling average functionality.\n",
    "    predicted_labels_probabilities_deque = deque(maxlen = window_size)\n",
    " \n",
    "    # Reading the Video File using the VideoCapture Object\n",
    "#     video_reader = cv2.VideoCapture(video_file_path)\n",
    "    video_reader = cv2.VideoCapture(video_file_path)\n",
    " \n",
    "    # Getting the width and height of the video \n",
    "    original_video_width = int(video_reader.get(cv2.CAP_PROP_FRAME_WIDTH))\n",
    "    original_video_height = int(video_reader.get(cv2.CAP_PROP_FRAME_HEIGHT))\n",
    " \n",
    "    # Writing the Overlayed Video Files Using the VideoWriter Object\n",
    "    video_writer = cv2.VideoWriter(output_file_path, cv2.VideoWriter_fourcc('M', 'P', '4', 'V'), 24, (original_video_width, original_video_height))\n",
    "    while True: \n",
    " \n",
    "        # Reading The Frame\n",
    "        status, frame = video_reader.read() \n",
    " \n",
    "        if not status:\n",
    "            break\n",
    " # Resize the Frame to fixed Dimensions\n",
    "        resized_frame = cv2.resize(frame, (image_height, image_width))\n",
    "         \n",
    "        # Normalize the resized frame by dividing it with 255 so that each pixel value then lies between 0 and 1\n",
    "        normalized_frame = resized_frame / 255\n",
    " \n",
    "        # Passing the Image Normalized Frame to the model and receiving Predicted Probabilities.\n",
    "        predicted_labels_probabilities = model.predict(np.expand_dims(normalized_frame, axis = 0))[0]\n",
    " \n",
    "        # Appending predicted label probabilities to the deque object\n",
    "        predicted_labels_probabilities_deque.append(predicted_labels_probabilities)\n",
    " \n",
    "        # Assuring that the Deque is completely filled before starting the averaging process\n",
    "        if len(predicted_labels_probabilities_deque) == window_size:\n",
    " \n",
    "            # Converting Predicted Labels Probabilities Deque into Numpy array\n",
    "            predicted_labels_probabilities_np = np.array(predicted_labels_probabilities_deque)\n",
    " \n",
    "            # Calculating Average of Predicted Labels Probabilities Column Wise \n",
    "            predicted_labels_probabilities_averaged = predicted_labels_probabilities_np.mean(axis = 0)\n",
    " \n",
    "            # Converting the predicted probabilities into labels by returning the index of the maximum value.\n",
    "            predicted_max=np.max(predicted_labels_probabilities_averaged)\n",
    "            predicted_label = np.argmax(predicted_labels_probabilities_averaged)\n",
    "            print(predicted_max)\n",
    "            if predicted_max>0.6 and predicted_label<4:\n",
    "                predicted_label = np.argmax(predicted_labels_probabilities_averaged)\n",
    "                frame_count=frame_count+1\n",
    "                if frame_count<450:\n",
    "                    frames.append(frame)\n",
    "                else:\n",
    "                    if len(frames)>100:\n",
    "                        save_clip(frames)\n",
    "                    frame_count=0\n",
    "                    frames=[]\n",
    "            else:\n",
    "\n",
    "                predicted_label=4\n",
    "            # Accessing The Class Name using predicted label.\n",
    "        predicted_class_name = classes_list[predicted_label]\n",
    "\n",
    "           \n",
    "            # Overlaying Class Name Text Ontop of the Frame\n",
    "            # cv2.putText(frame, predicted_class_name, (10, 30), cv2.FONT_HERSHEY_SIMPLEX, 1, (0, 0, 255), 2)\n",
    "        print(predicted_class_name)\n",
    " \n",
    "        # Writing The Frame\n",
    "        video_writer.write(frame)\n",
    " \n",
    " \n",
    "        cv2.imshow('Predicted Frames', frame)\n",
    " \n",
    "        key_pressed = cv2.waitKey(10)\n",
    " \n",
    "        if key_pressed == ord('q'):\n",
    "            break\n",
    " \n",
    "            cv2.destroyAllWindows()\n",
    " \n",
    "     \n",
    "    # Closing the VideoCapture and VideoWriter objects and releasing all resources held by them. \n",
    "    video_reader.release()\n",
    "    video_writer.release()\n",
    "    output_file_path = \"/Users/vivek/desktop/Anomaly/Saved\"\n",
    "# output_file_path = 0\n",
    "    window_size = 30\n",
    "    video_file_path = \"/Users/vivek/desktop/Anomaly/Anomaly-Videos-Part-1/Arrest/Arrest004_x264.mp4\"\n",
    "    predict_on_live_video(video_file_path, output_file_path, window_size)    \n"
   ]
  },
  {
   "cell_type": "code",
   "execution_count": 49,
   "id": "bba691f2",
   "metadata": {},
   "outputs": [
    {
     "name": "stdout",
     "output_type": "stream",
     "text": [
      "1/1 [==============================] - 0s 18ms/step\n"
     ]
    },
    {
     "name": "stderr",
     "output_type": "stream",
     "text": [
      "[ERROR:0@3319.822] global cap.cpp:645 open VIDEOIO(CV_IMAGES): raised OpenCV exception:\n",
      "\n",
      "OpenCV(4.8.1) /Users/xperience/GHA-OpenCV-Python/_work/opencv-python/opencv-python/opencv/modules/videoio/src/cap_images.cpp:253: error: (-5:Bad argument) CAP_IMAGES: can't find starting number (in the name of file): /Users/vivek/desktop/Anomaly/Saved in function 'icvExtractPattern'\n",
      "\n",
      "\n"
     ]
    },
    {
     "ename": "IndexError",
     "evalue": "list index out of range",
     "output_type": "error",
     "traceback": [
      "\u001b[0;31m---------------------------------------------------------------------------\u001b[0m",
      "\u001b[0;31mIndexError\u001b[0m                                Traceback (most recent call last)",
      "Cell \u001b[0;32mIn[49], line 1\u001b[0m\n\u001b[0;32m----> 1\u001b[0m predict_on_live_video(video_file_path, output_file_path, window_size)\n",
      "Cell \u001b[0;32mIn[48], line 64\u001b[0m, in \u001b[0;36mpredict_on_live_video\u001b[0;34m(video_file_path, output_file_path, window_size)\u001b[0m\n\u001b[1;32m     62\u001b[0m         predicted_label\u001b[38;5;241m=\u001b[39m\u001b[38;5;241m4\u001b[39m\n\u001b[1;32m     63\u001b[0m     \u001b[38;5;66;03m# Accessing The Class Name using predicted label.\u001b[39;00m\n\u001b[0;32m---> 64\u001b[0m predicted_class_name \u001b[38;5;241m=\u001b[39m classes_list[predicted_label]\n\u001b[1;32m     67\u001b[0m     \u001b[38;5;66;03m# Overlaying Class Name Text Ontop of the Frame\u001b[39;00m\n\u001b[1;32m     68\u001b[0m     \u001b[38;5;66;03m# cv2.putText(frame, predicted_class_name, (10, 30), cv2.FONT_HERSHEY_SIMPLEX, 1, (0, 0, 255), 2)\u001b[39;00m\n\u001b[1;32m     69\u001b[0m \u001b[38;5;28mprint\u001b[39m(predicted_class_name)\n",
      "\u001b[0;31mIndexError\u001b[0m: list index out of range"
     ]
    }
   ],
   "source": [
    "\n",
    "\n",
    "predict_on_live_video(video_file_path, output_file_path, window_size)\n"
   ]
  },
  {
   "cell_type": "code",
   "execution_count": null,
   "id": "31a5a771",
   "metadata": {},
   "outputs": [],
   "source": []
  }
 ],
 "metadata": {
  "kernelspec": {
   "display_name": "Python 3 (ipykernel)",
   "language": "python",
   "name": "python3"
  },
  "language_info": {
   "codemirror_mode": {
    "name": "ipython",
    "version": 3
   },
   "file_extension": ".py",
   "mimetype": "text/x-python",
   "name": "python",
   "nbconvert_exporter": "python",
   "pygments_lexer": "ipython3",
   "version": "3.11.5"
  }
 },
 "nbformat": 4,
 "nbformat_minor": 5
}
